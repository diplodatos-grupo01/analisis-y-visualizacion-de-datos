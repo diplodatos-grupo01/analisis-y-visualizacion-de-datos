{
 "cells": [
  {
   "cell_type": "code",
   "execution_count": 1,
   "metadata": {},
   "outputs": [],
   "source": [
    "%matplotlib inline\n",
    "import numpy as np\n",
    "import pandas as pd\n",
    "import seaborn as sns\n",
    "import matplotlib.pyplot as plt\n",
    "import math"
   ]
  },
  {
   "cell_type": "code",
   "execution_count": 2,
   "metadata": {},
   "outputs": [],
   "source": [
    "dataset = pd.read_csv(\n",
    "    '../datasets/recursos-humanos-cyt.csv')"
   ]
  },
  {
   "cell_type": "code",
   "execution_count": 3,
   "metadata": {
    "scrolled": false
   },
   "outputs": [
    {
     "data": {
      "text/html": [
       "<div>\n",
       "<style scoped>\n",
       "    .dataframe tbody tr th:only-of-type {\n",
       "        vertical-align: middle;\n",
       "    }\n",
       "\n",
       "    .dataframe tbody tr th {\n",
       "        vertical-align: top;\n",
       "    }\n",
       "\n",
       "    .dataframe thead th {\n",
       "        text-align: right;\n",
       "    }\n",
       "</style>\n",
       "<table border=\"1\" class=\"dataframe\">\n",
       "  <thead>\n",
       "    <tr style=\"text-align: right;\">\n",
       "      <th></th>\n",
       "      <th>persona_id</th>\n",
       "      <th>provincia_id</th>\n",
       "      <th>provincia</th>\n",
       "      <th>max_nivel_educativo_desc</th>\n",
       "      <th>genero</th>\n",
       "      <th>edad_desc</th>\n",
       "      <th>tipo_personal</th>\n",
       "      <th>gran_area_formacion</th>\n",
       "      <th>tipo_organizacion_desc</th>\n",
       "      <th>categoria_CONICET</th>\n",
       "      <th>categoria_incentivos_id</th>\n",
       "    </tr>\n",
       "  </thead>\n",
       "  <tbody>\n",
       "    <tr>\n",
       "      <th>7099</th>\n",
       "      <td>8992</td>\n",
       "      <td>6.0</td>\n",
       "      <td>Buenos Aires</td>\n",
       "      <td>Grado</td>\n",
       "      <td>femenino</td>\n",
       "      <td>30-39</td>\n",
       "      <td>docente</td>\n",
       "      <td>NaN</td>\n",
       "      <td>Universidad o instituto universitario estatal</td>\n",
       "      <td>No pertenece a Conicet</td>\n",
       "      <td>NaN</td>\n",
       "    </tr>\n",
       "    <tr>\n",
       "      <th>50597</th>\n",
       "      <td>71796</td>\n",
       "      <td>66.0</td>\n",
       "      <td>Salta</td>\n",
       "      <td>Especialización</td>\n",
       "      <td>femenino</td>\n",
       "      <td>60 y más</td>\n",
       "      <td>otro personal de la institucion</td>\n",
       "      <td>ciencias sociales</td>\n",
       "      <td>Universidad o instituto universitario estatal</td>\n",
       "      <td>No pertenece a Conicet</td>\n",
       "      <td>3.0</td>\n",
       "    </tr>\n",
       "    <tr>\n",
       "      <th>43971</th>\n",
       "      <td>57160</td>\n",
       "      <td>82.0</td>\n",
       "      <td>Santa Fe</td>\n",
       "      <td>Maestría</td>\n",
       "      <td>femenino</td>\n",
       "      <td>40-49</td>\n",
       "      <td>investigador</td>\n",
       "      <td>ciencias sociales</td>\n",
       "      <td>Universidad o instituto universitario estatal</td>\n",
       "      <td>No pertenece a Conicet</td>\n",
       "      <td>NaN</td>\n",
       "    </tr>\n",
       "    <tr>\n",
       "      <th>7063</th>\n",
       "      <td>8951</td>\n",
       "      <td>82.0</td>\n",
       "      <td>Santa Fe</td>\n",
       "      <td>Grado</td>\n",
       "      <td>femenino</td>\n",
       "      <td>50-59</td>\n",
       "      <td>otro personal de la institucion</td>\n",
       "      <td>humanidades</td>\n",
       "      <td>Organismo gubernamental de ciencia y tecnología</td>\n",
       "      <td>Personal de apoyo</td>\n",
       "      <td>NaN</td>\n",
       "    </tr>\n",
       "    <tr>\n",
       "      <th>23880</th>\n",
       "      <td>32059</td>\n",
       "      <td>30.0</td>\n",
       "      <td>Entre Ríos</td>\n",
       "      <td>Especialización</td>\n",
       "      <td>femenino</td>\n",
       "      <td>50-59</td>\n",
       "      <td>investigador</td>\n",
       "      <td>ciencias sociales</td>\n",
       "      <td>Universidad o instituto universitario estatal</td>\n",
       "      <td>No pertenece a Conicet</td>\n",
       "      <td>5.0</td>\n",
       "    </tr>\n",
       "  </tbody>\n",
       "</table>\n",
       "</div>"
      ],
      "text/plain": [
       "       persona_id  provincia_id     provincia max_nivel_educativo_desc  \\\n",
       "7099         8992           6.0  Buenos Aires                    Grado   \n",
       "50597       71796          66.0         Salta          Especialización   \n",
       "43971       57160          82.0      Santa Fe                 Maestría   \n",
       "7063         8951          82.0      Santa Fe                    Grado   \n",
       "23880       32059          30.0    Entre Ríos          Especialización   \n",
       "\n",
       "         genero edad_desc                    tipo_personal  \\\n",
       "7099   femenino     30-39                          docente   \n",
       "50597  femenino  60 y más  otro personal de la institucion   \n",
       "43971  femenino     40-49                     investigador   \n",
       "7063   femenino     50-59  otro personal de la institucion   \n",
       "23880  femenino     50-59                     investigador   \n",
       "\n",
       "      gran_area_formacion                           tipo_organizacion_desc  \\\n",
       "7099                  NaN    Universidad o instituto universitario estatal   \n",
       "50597   ciencias sociales    Universidad o instituto universitario estatal   \n",
       "43971   ciencias sociales    Universidad o instituto universitario estatal   \n",
       "7063          humanidades  Organismo gubernamental de ciencia y tecnología   \n",
       "23880   ciencias sociales    Universidad o instituto universitario estatal   \n",
       "\n",
       "            categoria_CONICET  categoria_incentivos_id  \n",
       "7099   No pertenece a Conicet                      NaN  \n",
       "50597  No pertenece a Conicet                      3.0  \n",
       "43971  No pertenece a Conicet                      NaN  \n",
       "7063        Personal de apoyo                      NaN  \n",
       "23880  No pertenece a Conicet                      5.0  "
      ]
     },
     "execution_count": 3,
     "metadata": {},
     "output_type": "execute_result"
    }
   ],
   "source": [
    "dataset.sample(n=5, replace=True)"
   ]
  },
  {
   "cell_type": "markdown",
   "metadata": {},
   "source": [
    "# Un poco de limpieza...\n",
    "\n",
    "Vamos a remover los campos identificadores, dado que son útiles solo en caso de cruzar con otras tablas\n"
   ]
  },
  {
   "cell_type": "code",
   "execution_count": 4,
   "metadata": {},
   "outputs": [
    {
     "data": {
      "text/html": [
       "<div>\n",
       "<style scoped>\n",
       "    .dataframe tbody tr th:only-of-type {\n",
       "        vertical-align: middle;\n",
       "    }\n",
       "\n",
       "    .dataframe tbody tr th {\n",
       "        vertical-align: top;\n",
       "    }\n",
       "\n",
       "    .dataframe thead th {\n",
       "        text-align: right;\n",
       "    }\n",
       "</style>\n",
       "<table border=\"1\" class=\"dataframe\">\n",
       "  <thead>\n",
       "    <tr style=\"text-align: right;\">\n",
       "      <th></th>\n",
       "      <th>provincia</th>\n",
       "      <th>max_nivel_educativo_desc</th>\n",
       "      <th>genero</th>\n",
       "      <th>edad_desc</th>\n",
       "      <th>tipo_personal</th>\n",
       "      <th>gran_area_formacion</th>\n",
       "      <th>tipo_organizacion_desc</th>\n",
       "      <th>categoria_CONICET</th>\n",
       "    </tr>\n",
       "  </thead>\n",
       "  <tbody>\n",
       "    <tr>\n",
       "      <th>380</th>\n",
       "      <td>Santiago Del Estero</td>\n",
       "      <td>Grado</td>\n",
       "      <td>femenino</td>\n",
       "      <td>30-39</td>\n",
       "      <td>docente</td>\n",
       "      <td>ciencias sociales</td>\n",
       "      <td>Universidad o instituto universitario privado</td>\n",
       "      <td>No pertenece a Conicet</td>\n",
       "    </tr>\n",
       "    <tr>\n",
       "      <th>432</th>\n",
       "      <td>Neuquén</td>\n",
       "      <td>Grado</td>\n",
       "      <td>femenino</td>\n",
       "      <td>30-39</td>\n",
       "      <td>becario de i+d</td>\n",
       "      <td>sin datos</td>\n",
       "      <td>OCT-Universidad</td>\n",
       "      <td>No pertenece a Conicet</td>\n",
       "    </tr>\n",
       "    <tr>\n",
       "      <th>31916</th>\n",
       "      <td>Buenos Aires</td>\n",
       "      <td>Maestría</td>\n",
       "      <td>femenino</td>\n",
       "      <td>40-49</td>\n",
       "      <td>investigador</td>\n",
       "      <td>ciencias sociales</td>\n",
       "      <td>Universidad o instituto universitario estatal</td>\n",
       "      <td>No pertenece a Conicet</td>\n",
       "    </tr>\n",
       "    <tr>\n",
       "      <th>39422</th>\n",
       "      <td>Buenos Aires</td>\n",
       "      <td>Grado</td>\n",
       "      <td>masculino</td>\n",
       "      <td>40-49</td>\n",
       "      <td>docente</td>\n",
       "      <td>ingenierías y tecnologías</td>\n",
       "      <td>Universidad o instituto universitario estatal</td>\n",
       "      <td>No pertenece a Conicet</td>\n",
       "    </tr>\n",
       "    <tr>\n",
       "      <th>53767</th>\n",
       "      <td>Corrientes</td>\n",
       "      <td>Grado</td>\n",
       "      <td>masculino</td>\n",
       "      <td>Menor de 30</td>\n",
       "      <td>docente</td>\n",
       "      <td>ciencias naturales y exactas</td>\n",
       "      <td>Universidad o instituto universitario estatal</td>\n",
       "      <td>No pertenece a Conicet</td>\n",
       "    </tr>\n",
       "  </tbody>\n",
       "</table>\n",
       "</div>"
      ],
      "text/plain": [
       "                 provincia max_nivel_educativo_desc     genero    edad_desc  \\\n",
       "380    Santiago Del Estero                    Grado   femenino        30-39   \n",
       "432                Neuquén                    Grado   femenino        30-39   \n",
       "31916         Buenos Aires                 Maestría   femenino        40-49   \n",
       "39422         Buenos Aires                    Grado  masculino        40-49   \n",
       "53767           Corrientes                    Grado  masculino  Menor de 30   \n",
       "\n",
       "        tipo_personal           gran_area_formacion  \\\n",
       "380           docente             ciencias sociales   \n",
       "432    becario de i+d                     sin datos   \n",
       "31916    investigador             ciencias sociales   \n",
       "39422         docente     ingenierías y tecnologías   \n",
       "53767         docente  ciencias naturales y exactas   \n",
       "\n",
       "                              tipo_organizacion_desc       categoria_CONICET  \n",
       "380    Universidad o instituto universitario privado  No pertenece a Conicet  \n",
       "432                                  OCT-Universidad  No pertenece a Conicet  \n",
       "31916  Universidad o instituto universitario estatal  No pertenece a Conicet  \n",
       "39422  Universidad o instituto universitario estatal  No pertenece a Conicet  \n",
       "53767  Universidad o instituto universitario estatal  No pertenece a Conicet  "
      ]
     },
     "execution_count": 4,
     "metadata": {},
     "output_type": "execute_result"
    }
   ],
   "source": [
    "cl_dataset = dataset.drop(columns=['persona_id', 'provincia_id', 'categoria_incentivos_id'])\n",
    "cl_dataset.sample(n=5, replace=True)"
   ]
  },
  {
   "cell_type": "markdown",
   "metadata": {},
   "source": [
    "Existen categorías que representan valores nulos, así que rápidamente vamos a etiquetar correctamente dichos datos usando _np.nan_.\n",
    "\n",
    "Existen también _trailing spaces_. Vamos a eliminar entonces este ruido"
   ]
  },
  {
   "cell_type": "code",
   "execution_count": 5,
   "metadata": {},
   "outputs": [],
   "source": [
    "cl_dataset = cl_dataset.replace(\"Sin Provincia\", np.nan)\n",
    "cl_dataset = cl_dataset.replace(\"(?i)sin datos\", np.nan, regex=True)\n",
    "for col in cl_dataset.columns:\n",
    "    cl_dataset[col] = cl_dataset[col].str.strip()"
   ]
  },
  {
   "cell_type": "markdown",
   "metadata": {},
   "source": [
    "# Descripción General\n",
    "\n",
    "No contamos con ninguna variable numérica en bruto. Sin embargo contamos con un campo de edad separado en contenedores, y también con algunas variables que tal vez puedan ser consideradas como ordinales, como ser por ejemplo el máximo nivel educativo alcanzado.\n",
    "\n",
    "Vamos a emplear la función _**describe**_ de la librería pandas para que nos describa de forma general el dataset. Se suma además un gráfico de la cantidad de valores nulos y su distribución sobre las variables consideradas para los mismos fines."
   ]
  },
  {
   "cell_type": "code",
   "execution_count": 6,
   "metadata": {},
   "outputs": [
    {
     "data": {
      "text/html": [
       "<div>\n",
       "<style scoped>\n",
       "    .dataframe tbody tr th:only-of-type {\n",
       "        vertical-align: middle;\n",
       "    }\n",
       "\n",
       "    .dataframe tbody tr th {\n",
       "        vertical-align: top;\n",
       "    }\n",
       "\n",
       "    .dataframe thead th {\n",
       "        text-align: right;\n",
       "    }\n",
       "</style>\n",
       "<table border=\"1\" class=\"dataframe\">\n",
       "  <thead>\n",
       "    <tr style=\"text-align: right;\">\n",
       "      <th></th>\n",
       "      <th>provincia</th>\n",
       "      <th>max_nivel_educativo_desc</th>\n",
       "      <th>genero</th>\n",
       "      <th>edad_desc</th>\n",
       "      <th>tipo_personal</th>\n",
       "      <th>gran_area_formacion</th>\n",
       "      <th>tipo_organizacion_desc</th>\n",
       "      <th>categoria_CONICET</th>\n",
       "    </tr>\n",
       "  </thead>\n",
       "  <tbody>\n",
       "    <tr>\n",
       "      <th>count</th>\n",
       "      <td>54165</td>\n",
       "      <td>56074</td>\n",
       "      <td>56233</td>\n",
       "      <td>56233</td>\n",
       "      <td>56233</td>\n",
       "      <td>48252</td>\n",
       "      <td>54617</td>\n",
       "      <td>56233</td>\n",
       "    </tr>\n",
       "    <tr>\n",
       "      <th>unique</th>\n",
       "      <td>51</td>\n",
       "      <td>8</td>\n",
       "      <td>2</td>\n",
       "      <td>5</td>\n",
       "      <td>4</td>\n",
       "      <td>6</td>\n",
       "      <td>11</td>\n",
       "      <td>12</td>\n",
       "    </tr>\n",
       "    <tr>\n",
       "      <th>top</th>\n",
       "      <td>Buenos Aires</td>\n",
       "      <td>Grado</td>\n",
       "      <td>femenino</td>\n",
       "      <td>30-39</td>\n",
       "      <td>investigador</td>\n",
       "      <td>ciencias sociales</td>\n",
       "      <td>Universidad o instituto universitario estatal</td>\n",
       "      <td>No pertenece a Conicet</td>\n",
       "    </tr>\n",
       "    <tr>\n",
       "      <th>freq</th>\n",
       "      <td>15025</td>\n",
       "      <td>20043</td>\n",
       "      <td>32877</td>\n",
       "      <td>17602</td>\n",
       "      <td>28936</td>\n",
       "      <td>13979</td>\n",
       "      <td>39964</td>\n",
       "      <td>39426</td>\n",
       "    </tr>\n",
       "  </tbody>\n",
       "</table>\n",
       "</div>"
      ],
      "text/plain": [
       "           provincia max_nivel_educativo_desc    genero edad_desc  \\\n",
       "count          54165                    56074     56233     56233   \n",
       "unique            51                        8         2         5   \n",
       "top     Buenos Aires                    Grado  femenino     30-39   \n",
       "freq           15025                    20043     32877     17602   \n",
       "\n",
       "       tipo_personal gran_area_formacion  \\\n",
       "count          56233               48252   \n",
       "unique             4                   6   \n",
       "top     investigador   ciencias sociales   \n",
       "freq           28936               13979   \n",
       "\n",
       "                               tipo_organizacion_desc       categoria_CONICET  \n",
       "count                                           54617                   56233  \n",
       "unique                                             11                      12  \n",
       "top     Universidad o instituto universitario estatal  No pertenece a Conicet  \n",
       "freq                                            39964                   39426  "
      ]
     },
     "execution_count": 6,
     "metadata": {},
     "output_type": "execute_result"
    }
   ],
   "source": [
    "cl_dataset.describe()"
   ]
  },
  {
   "cell_type": "code",
   "execution_count": 7,
   "metadata": {},
   "outputs": [
    {
     "data": {
      "image/png": "[encoded data removed]",
      "text/plain": [
       "<Figure size 720x360 with 1 Axes>"
      ]
     },
     "metadata": {},
     "output_type": "display_data"
    }
   ],
   "source": [
    "_ = cl_dataset.isnull().sum().sort_values(ascending=False).plot(kind='bar', figsize = (10,5))"
   ]
  },
  {
   "cell_type": "markdown",
   "metadata": {},
   "source": [
    "Se pueden hacer las siguientes observaciones:\n",
    "* Los valores nulos rondan el 14% en la categoría con más ocurrencias nulas, por lo que no será un factor perjudicial.\n",
    "* Considerando los valores únicos por columna, se pueden ver valores acertados, exceptuando a provincia: en nuestro dataset hay 53 provincias distintas! Veamos y adaptemos esos datos."
   ]
  },
  {
   "cell_type": "code",
   "execution_count": 8,
   "metadata": {},
   "outputs": [
    {
     "data": {
      "text/plain": [
       "Buenos Aires           15025\n",
       "CABA                   11021\n",
       "Córdoba                 5978\n",
       "Santa Fe                4592\n",
       "Tucumán                 2220\n",
       "Mendoza                 2212\n",
       "Río Negro               1345\n",
       "San Luis                1341\n",
       "Entre Ríos              1152\n",
       "Corrientes              1042\n",
       "San Juan                1041\n",
       "Salta                    937\n",
       "Misiones                 930\n",
       "Chubut                   765\n",
       "Catamarca                645\n",
       "La Pampa                 591\n",
       "Chaco                    581\n",
       "Jujuy                    579\n",
       "Neuquén                  534\n",
       "La Rioja                 446\n",
       "Santiago Del Estero      369\n",
       "Santa Cruz               342\n",
       "Formosa                  238\n",
       "Tierra Del Fuego         191\n",
       "Lima                       7\n",
       "California                 4\n",
       "Florida                    4\n",
       "Paris                      3\n",
       "Minnesota                  3\n",
       "Pernambuco                 3\n",
       "Nebraska                   2\n",
       "New York                   2\n",
       "Colombia                   2\n",
       "Rio De Janeiro             1\n",
       "Connecticut                1\n",
       "Distrito Federal           1\n",
       "Washington                 1\n",
       "Roma                       1\n",
       "Montevideo                 1\n",
       "Indiana                    1\n",
       "Colorado                   1\n",
       "Barcelona                  1\n",
       "Wisconsin                  1\n",
       "South Carolina             1\n",
       "Pennsylvania               1\n",
       "Illinois                   1\n",
       "Milano                     1\n",
       "Berlin                     1\n",
       "Vizcaya                    1\n",
       "Massachusetts              1\n",
       "Madrid                     1\n",
       "Name: provincia, dtype: int64"
      ]
     },
     "execution_count": 8,
     "metadata": {},
     "output_type": "execute_result"
    }
   ],
   "source": [
    "cl_dataset.provincia.value_counts()"
   ]
  },
  {
   "cell_type": "markdown",
   "metadata": {},
   "source": [
    "Existen un problema grande y es que:\n",
    "* Se cuentan como provincias ciudades extranjeras, siendo ademas que la gran mayoría de ellas cuentan con una ocurrencia.\n",
    "\n",
    "Mientras que otro punto discutible es:\n",
    "* CABA y Buenos Aires disociadas. Sin embargo esta distinción es entendible en el sentido que Buenos Aires seguramente hace referencia al Gran Buenos Aires, excluyendo a Capital Federal; mientras que CABA hace referencia a Capital Federal.\n",
    "\n",
    "Consideramos necesario entonces hacer una categoría \"Extranjero\"."
   ]
  },
  {
   "cell_type": "code",
   "execution_count": 9,
   "metadata": {},
   "outputs": [
    {
     "data": {
      "text/plain": [
       "Buenos Aires           15025\n",
       "CABA                   11021\n",
       "Córdoba                 5978\n",
       "Santa Fe                4592\n",
       "Tucumán                 2220\n",
       "Mendoza                 2212\n",
       "Río Negro               1345\n",
       "San Luis                1341\n",
       "Entre Ríos              1152\n",
       "Corrientes              1042\n",
       "San Juan                1041\n",
       "Salta                    937\n",
       "Misiones                 930\n",
       "Chubut                   765\n",
       "Catamarca                645\n",
       "La Pampa                 591\n",
       "Chaco                    581\n",
       "Jujuy                    579\n",
       "Neuquén                  534\n",
       "La Rioja                 446\n",
       "Santiago Del Estero      369\n",
       "Santa Cruz               342\n",
       "Formosa                  238\n",
       "Tierra Del Fuego         191\n",
       "Extranjero                48\n",
       "Name: provincia, dtype: int64"
      ]
     },
     "execution_count": 9,
     "metadata": {},
     "output_type": "execute_result"
    }
   ],
   "source": [
    "pcias_arg = ['CABA', 'Entre Ríos', 'San Luis', 'Córdoba', 'Buenos Aires', 'Corrientes', 'Tucumán', 'Santa Fe', 'Chubut', 'Formosa', 'Catamarca', 'Misiones', 'Salta', 'Mendoza', 'Chaco', 'Río Negro', 'Santiago Del Estero', 'San Juan', 'Jujuy', 'Neuquén', 'La Rioja', 'Santa Cruz', 'La Pampa', 'Tierra Del Fuego']\n",
    "def pcia_replacm(pcia):\n",
    "    if not (pcia in pcias_arg):\n",
    "        return 'Extranjero'\n",
    "    return pcia\n",
    "cl_dataset.provincia = cl_dataset.provincia.map(pcia_replacm, na_action='ignore')\n",
    "cl_dataset.provincia.value_counts()"
   ]
  },
  {
   "cell_type": "code",
   "execution_count": null,
   "metadata": {},
   "outputs": [],
   "source": []
  },
  {
   "cell_type": "code",
   "execution_count": null,
   "metadata": {},
   "outputs": [],
   "source": []
  },
  {
   "cell_type": "code",
   "execution_count": 10,
   "metadata": {},
   "outputs": [],
   "source": [
    "# def simple_barplot():\n",
    "#     ax = seaborn.barplot(data=fdps.to_frame().reset_index(),\n",
    "#         x='index', y='area', color='#2ecc71')\n",
    "#     ax.set_xticklabels(ax.get_xticklabels(), rotation=40, ha=\"right\")\n",
    "#     seaborn.despine()\n",
    "#dataset['provincia'].value_counts()"
   ]
  },
  {
   "cell_type": "code",
   "execution_count": 11,
   "metadata": {},
   "outputs": [],
   "source": [
    "# fig, axs = plt.subplots(ncols=3, figsize=(10,10))\n",
    "# sns.barplot(data=dataset.provincia.value_counts().to_frame().reset_index(),\n",
    "#         x='index', y='provincia', color='#2ecc71', ax=axs[0], rotation=).set_xticklabels(\n",
    "#             ax.get_xticklabels(), rotation=40, ha=\"right\")\n",
    "# sns.barplot(data=dataset.max_nivel_educativo_desc.value_counts().to_frame().reset_index(),\n",
    "#         x='index', y='max_nivel_educativo_desc', color='#2ecc71', ax=axs[1])"
   ]
  },
  {
   "cell_type": "code",
   "execution_count": 12,
   "metadata": {},
   "outputs": [],
   "source": [
    "#dataset[['max_nivel_educativo_desc']]\n",
    "#sns.pairplot(dataset)\n",
    "#fig, axs = plt.subplots(3, 3)\n",
    "#sns.barplot(data=dataset.provincia.value_counts().to_frame().reset_index(),\n",
    "#        x='index', y='provincia', color='#2ecc71')\n",
    "# sns.pairplot?"
   ]
  }
 ],
 "metadata": {
  "kernelspec": {
   "display_name": "Python [conda env:diplodatos-ayv]",
   "language": "python",
   "name": "conda-env-diplodatos-ayv-py"
  },
  "language_info": {
   "codemirror_mode": {
    "name": "ipython",
    "version": 3
   },
   "file_extension": ".py",
   "mimetype": "text/x-python",
   "name": "python",
   "nbconvert_exporter": "python",
   "pygments_lexer": "ipython3",
   "version": "3.5.5"
  }
 },
 "nbformat": 4,
 "nbformat_minor": 2
}
